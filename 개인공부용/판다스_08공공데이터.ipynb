{
 "cells": [
  {
   "cell_type": "code",
   "execution_count": 1,
   "metadata": {},
   "outputs": [
    {
     "data": {
      "text/plain": [
       "'\\n공공데이터포털\\nhttps://www.data.go.kr/\\n\\n-> 공공API => 공공서버\\n-> 규모가 큰 공공서비스는 각각의 서버를 따로 가지고있다.\\nex)\\n서울 열린데이터 광장 (서울) -> https://data.seoul.go.kr/\\n경기 데이터드림 (경기) -> https://data.gg.go.kr/portal/mainPage.do\\n\\n구글 검색 기능 / ...:... 띄어쓰기하지않는다!\\n검색어 filetype:확장자\\n검색어 site:웹주소\\n\\nex)\\n기상청 site:data.go.kr\\n'"
      ]
     },
     "execution_count": 1,
     "metadata": {},
     "output_type": "execute_result"
    }
   ],
   "source": [
    "'''\n",
    "공공데이터포털\n",
    "https://www.data.go.kr/\n",
    "\n",
    "-> 공공API => 공공서버\n",
    "-> 규모가 큰 공공서비스는 각각의 서버를 따로 가지고있다.\n",
    "ex)\n",
    "서울 열린데이터 광장 (서울) -> https://data.seoul.go.kr/\n",
    "경기 데이터드림 (경기) -> https://data.gg.go.kr/portal/mainPage.do\n",
    "\n",
    "구글 검색 기능 / ...:... 띄어쓰기하지않는다!\n",
    "검색어 filetype:확장자\n",
    "검색어 site:웹주소\n",
    "\n",
    "ex)\n",
    "기상청 site:data.go.kr\n",
    "\n",
    "\n",
    "url\n",
    "uri\n",
    "\n",
    "단말기 : 입출력장치, 처리기X\n",
    "서버\n",
    "\n",
    "클라이언트(자료요청) : 처리기O -> 웹브라우저\n",
    "서버(자료주는컴)\n",
    "\n",
    "ftp서버 : 계속연결\n",
    "web서버 : 전달후 끊어짐\n",
    "\n",
    "🤔주의!\n",
    "인증키\n",
    "축제시작일\n",
    "축제종료일\n",
    "'''"
   ]
  },
  {
   "cell_type": "code",
   "execution_count": 2,
   "metadata": {},
   "outputs": [],
   "source": [
    "import seaborn as sns\n",
    "import pandas as pd\n",
    "import matplotlib.pyplot as plt\n",
    "import numpy as np"
   ]
  },
  {
   "cell_type": "code",
   "execution_count": 7,
   "metadata": {},
   "outputs": [
    {
     "name": "stderr",
     "output_type": "stream",
     "text": [
      "C:\\Users\\go121\\AppData\\Local\\Temp\\ipykernel_12868\\2290513448.py:1: DtypeWarning: Columns (2) have mixed types. Specify dtype option on import or set low_memory=False.\n",
      "  df = pd.read_csv('../py/20241002/소상공인data/소상공인시장진흥공단_상가(상권)정보_강원_202406.csv')\n"
     ]
    }
   ],
   "source": [
    "df = pd.read_csv('../py/20241002/소상공인data/소상공인시장진흥공단_상가(상권)정보_강원_202406.csv')"
   ]
  },
  {
   "cell_type": "code",
   "execution_count": 8,
   "metadata": {},
   "outputs": [
    {
     "name": "stdout",
     "output_type": "stream",
     "text": [
      "<class 'pandas.core.frame.DataFrame'>\n",
      "RangeIndex: 92579 entries, 0 to 92578\n",
      "Data columns (total 39 columns):\n",
      " #   Column     Non-Null Count  Dtype  \n",
      "---  ------     --------------  -----  \n",
      " 0   상가업소번호     92579 non-null  object \n",
      " 1   상호명        92579 non-null  object \n",
      " 2   지점명        1008 non-null   object \n",
      " 3   상권업종대분류코드  92579 non-null  object \n",
      " 4   상권업종대분류명   92579 non-null  object \n",
      " 5   상권업종중분류코드  92579 non-null  object \n",
      " 6   상권업종중분류명   92579 non-null  object \n",
      " 7   상권업종소분류코드  92579 non-null  object \n",
      " 8   상권업종소분류명   92579 non-null  object \n",
      " 9   표준산업분류코드   92495 non-null  object \n",
      " 10  표준산업분류명    92495 non-null  object \n",
      " 11  시도코드       92579 non-null  int64  \n",
      " 12  시도명        92579 non-null  object \n",
      " 13  시군구코드      92579 non-null  int64  \n",
      " 14  시군구명       92579 non-null  object \n",
      " 15  행정동코드      92579 non-null  int64  \n",
      " 16  행정동명       92579 non-null  object \n",
      " 17  법정동코드      92579 non-null  int64  \n",
      " 18  법정동명       92579 non-null  object \n",
      " 19  지번코드       92579 non-null  int64  \n",
      " 20  대지구분코드     92579 non-null  int64  \n",
      " 21  대지구분명      92579 non-null  object \n",
      " 22  지번본번지      92579 non-null  int64  \n",
      " 23  지번부번지      77640 non-null  float64\n",
      " 24  지번주소       92579 non-null  object \n",
      " 25  도로명코드      92257 non-null  float64\n",
      " 26  도로명        92579 non-null  object \n",
      " 27  건물본번지      92257 non-null  float64\n",
      " 28  건물부번지      24919 non-null  float64\n",
      " 29  건물관리번호     92578 non-null  object \n",
      " 30  건물명        17180 non-null  object \n",
      " 31  도로명주소      92579 non-null  object \n",
      " 32  구우편번호      92579 non-null  int64  \n",
      " 33  신우편번호      92579 non-null  int64  \n",
      " 34  동정보        0 non-null      float64\n",
      " 35  층정보        30221 non-null  object \n",
      " 36  호정보        0 non-null      float64\n",
      " 37  경도         92579 non-null  float64\n",
      " 38  위도         92579 non-null  float64\n",
      "dtypes: float64(8), int64(9), object(22)\n",
      "memory usage: 27.5+ MB\n"
     ]
    }
   ],
   "source": [
    "df.info()"
   ]
  },
  {
   "cell_type": "code",
   "execution_count": 9,
   "metadata": {},
   "outputs": [
    {
     "data": {
      "text/plain": [
       "상권업종소분류코드\n",
       "I20101    7825\n",
       "I10103    5006\n",
       "I21201    4486\n",
       "S20701    4004\n",
       "G20404    2797\n",
       "          ... \n",
       "M10302       3\n",
       "M10503       3\n",
       "N11002       2\n",
       "M10499       2\n",
       "R10402       1\n",
       "Name: count, Length: 246, dtype: int64"
      ]
     },
     "execution_count": 9,
     "metadata": {},
     "output_type": "execute_result"
    }
   ],
   "source": [
    "df['상권업종소분류코드'].value_counts()"
   ]
  },
  {
   "cell_type": "code",
   "execution_count": 11,
   "metadata": {},
   "outputs": [
    {
     "data": {
      "text/plain": [
       "1        백반/한정식\n",
       "20       백반/한정식\n",
       "34       백반/한정식\n",
       "40       백반/한정식\n",
       "50       백반/한정식\n",
       "          ...  \n",
       "92550    백반/한정식\n",
       "92553    백반/한정식\n",
       "92560    백반/한정식\n",
       "92569    백반/한정식\n",
       "92570    백반/한정식\n",
       "Name: 상권업종소분류명, Length: 7825, dtype: object"
      ]
     },
     "execution_count": 11,
     "metadata": {},
     "output_type": "execute_result"
    }
   ],
   "source": [
    "df[df['상권업종소분류코드']=='I20101']['상권업종소분류명']"
   ]
  },
  {
   "cell_type": "code",
   "execution_count": null,
   "metadata": {},
   "outputs": [],
   "source": []
  }
 ],
 "metadata": {
  "kernelspec": {
   "display_name": "edu",
   "language": "python",
   "name": "python3"
  },
  "language_info": {
   "codemirror_mode": {
    "name": "ipython",
    "version": 3
   },
   "file_extension": ".py",
   "mimetype": "text/x-python",
   "name": "python",
   "nbconvert_exporter": "python",
   "pygments_lexer": "ipython3",
   "version": "3.12.5"
  }
 },
 "nbformat": 4,
 "nbformat_minor": 2
}
