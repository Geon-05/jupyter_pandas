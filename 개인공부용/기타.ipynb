{
 "cells": [
  {
   "cell_type": "code",
   "execution_count": null,
   "metadata": {},
   "outputs": [],
   "source": [
    "# 머신러닝 / 딥러닝\n",
    "# 딥러닝\n",
    "# 활성화함수\n",
    "# 머신러닝 - 정확도가 낮음 / 통계기반이라??"
   ]
  }
 ],
 "metadata": {
  "language_info": {
   "name": "python"
  }
 },
 "nbformat": 4,
 "nbformat_minor": 2
}
