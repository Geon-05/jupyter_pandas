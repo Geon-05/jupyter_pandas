{
 "cells": [
  {
   "cell_type": "code",
   "execution_count": 1,
   "id": "c8c1bf2d-5500-4bfa-b4d2-5bf950416ff0",
   "metadata": {},
   "outputs": [],
   "source": [
    "import gensim\n",
    "from gensim import corpora\n",
    "from gensim.models import LdaModel, CoherenceModel\n",
    "from konlpy.tag import Okt\n",
    "import pyLDAvis.gensim\n",
    "import pyLDAvis\n",
    "import matplotlib.pyplot as plt"
   ]
  },
  {
   "cell_type": "code",
   "execution_count": 8,
   "id": "937a8daa-b21c-44c7-825c-597a87e515dc",
   "metadata": {},
   "outputs": [],
   "source": [
    "# Okt 토크나이저를 초기화합니다.\n",
    "okt = Okt()\n",
    "\n",
    "# 간단한 한국어 불용어 리스트를 정의합니다.\n",
    "korean_stopwords = [\"는\", \"은\", \"이\", \"가\", \"을\", \"를\", \"에서\", \"의\", \"으로\", \"하고\", \"도\", \"에\", \"한\", \"으로\", \"고\",'.']\n",
    "\n",
    "# 예제 문장들\n",
    "documents = [\n",
    "    \"축구 경기는 90분 동안 진행된다.\",\n",
    "    \"야구에서는 홈런을 치면 관중들이 열광한다.\",\n",
    "    \"테니스는 네트를 사이에 두고 상대와 경기를 한다.\",\n",
    "    \"농구는 5명의 선수로 이루어진 팀 경기이다.\",\n",
    "    \"마라톤은 장거리를 달리는 육상 경기이다.\",\n",
    "    \"로맨틱 영화는 사랑 이야기를 중심으로 전개된다.\",\n",
    "    \"액션 영화에서는 스릴 넘치는 추격 장면이 자주 등장한다.\",\n",
    "    \"애니메이션 영화는 어린이들에게 인기가 많다.\",\n",
    "    \"공포 영화는 긴장감을 조성하여 관객을 무섭게 한다.\",\n",
    "    \"코미디 영화는 웃음을 주는 요소가 가득하다.\"\n",
    "]\n",
    "\n",
    "# 명사만 추출하여 불용어 제거\n",
    "texts = [\n",
    "    [word for word in okt.nouns(document) if word not in korean_stopwords]\n",
    "    for document in documents\n",
    "]"
   ]
  },
  {
   "cell_type": "code",
   "execution_count": null,
   "id": "df4b88ca-cee2-4a35-8163-1e4e9bd4fa09",
   "metadata": {},
   "outputs": [],
   "source": [
    "texts"
   ]
  },
  {
   "cell_type": "code",
   "execution_count": null,
   "id": "6739e1f0-f3d1-46a0-97e0-02b059f76333",
   "metadata": {
    "scrolled": true
   },
   "outputs": [],
   "source": [
    "len(set([j for i in texts for j in i]))"
   ]
  },
  {
   "cell_type": "code",
   "execution_count": 10,
   "id": "eefd74ab-5a8f-4af4-bcd9-e50cbf78ec0f",
   "metadata": {},
   "outputs": [],
   "source": [
    "# Gensim의 Dictionary와 Corpus를 생성합니다. =>{단어:ID,,,,}\n",
    "id2word = corpora.Dictionary(texts)\n",
    "# print(len(id2word))\n",
    "# id2word.token2id #내용확인"
   ]
  },
  {
   "cell_type": "code",
   "execution_count": null,
   "id": "1ace0bc5-e1d9-4ebe-b384-2e71f4922228",
   "metadata": {
    "scrolled": true
   },
   "outputs": [],
   "source": [
    "id2word.token2id"
   ]
  },
  {
   "cell_type": "code",
   "execution_count": 17,
   "id": "579195ed-8eaa-474b-a1a7-8bb70e8696b0",
   "metadata": {},
   "outputs": [],
   "source": [
    "# 필터링된 단어로 Corpus를 업데이트합니다.\n",
    "corpus = [id2word.doc2bow(text) for text in texts]"
   ]
  },
  {
   "cell_type": "code",
   "execution_count": null,
   "id": "0386fa0e-dd68-4fb5-ac46-f3b4df6161de",
   "metadata": {},
   "outputs": [],
   "source": [
    "corpus"
   ]
  },
  {
   "cell_type": "code",
   "execution_count": 19,
   "id": "66bae1fc-2007-43b1-9be2-ade0ab86d77d",
   "metadata": {},
   "outputs": [],
   "source": [
    "# 최적의 토픽 수를 찾기 위한 평가\n",
    "perplexity_values = []\n",
    "coherence_values = []\n",
    "topic_range = range(2, 7)\n",
    "\n",
    "for num_topics in topic_range:\n",
    "    lda_model = LdaModel(corpus=corpus, id2word=id2word, num_topics=num_topics, random_state=100)\n",
    "    perplexity_values.append(lda_model.log_perplexity(corpus))\n",
    "    \n",
    "    coherence_model_lda = CoherenceModel(model=lda_model, texts=texts, dictionary=id2word, coherence='c_v')\n",
    "    coherence_values.append(coherence_model_lda.get_coherence())"
   ]
  },
  {
   "cell_type": "code",
   "execution_count": null,
   "id": "973b2c7d-8383-4d64-8adc-8feb527a615b",
   "metadata": {},
   "outputs": [],
   "source": [
    "perplexity_values"
   ]
  },
  {
   "cell_type": "code",
   "execution_count": null,
   "id": "25ea75ce-8e1b-4c1d-93aa-fd0222eb2381",
   "metadata": {},
   "outputs": [],
   "source": [
    "plt.plot(perplexity_values, marker='.')"
   ]
  },
  {
   "cell_type": "code",
   "execution_count": null,
   "id": "d5622ecd-32d2-45ec-bb92-aa2e246cfda2",
   "metadata": {},
   "outputs": [],
   "source": [
    "coherence_values"
   ]
  },
  {
   "cell_type": "code",
   "execution_count": null,
   "id": "e0c2c461-8de2-4a9e-bd6e-37e47e5f47f1",
   "metadata": {},
   "outputs": [],
   "source": [
    "plt.plot(coherence_values, marker='.')"
   ]
  },
  {
   "cell_type": "code",
   "execution_count": null,
   "id": "e6b49231-2a76-4ad1-bd1f-c79f0140bd6d",
   "metadata": {},
   "outputs": [],
   "source": [
    "# 결과 시각화\n",
    "plt.figure(figsize=(12, 5))\n",
    "plt.subplot(1, 2, 1)\n",
    "plt.plot(topic_range, perplexity_values, marker='o')\n",
    "plt.title('Perplexity Scores')\n",
    "plt.xlabel('Number of Topics')\n",
    "plt.ylabel('Perplexity')\n",
    "\n",
    "plt.subplot(1, 2, 2)\n",
    "plt.plot(topic_range, coherence_values, marker='o')\n",
    "plt.title('Coherence Scores')\n",
    "plt.xlabel('Number of Topics')\n",
    "plt.ylabel('Coherence')\n",
    "\n",
    "plt.show()"
   ]
  },
  {
   "cell_type": "code",
   "execution_count": null,
   "id": "12f3880d-8d64-48b3-b522-17bb6e92f2bb",
   "metadata": {},
   "outputs": [],
   "source": [
    "# 최적 토픽 수로 최종 모델 학습\n",
    "optimal_topics = topic_range[coherence_values.index(max(coherence_values))]\n",
    "# optimal_topics=2\n",
    "lda_model = LdaModel(corpus=corpus, id2word=id2word, num_topics=optimal_topics, random_state=100)\n",
    "\n",
    "# pyLDAvis 시각화\n",
    "pyLDAvis.enable_notebook()\n",
    "vis = pyLDAvis.gensim.prepare(lda_model, corpus, id2word)\n",
    "pyLDAvis.display(vis)"
   ]
  },
  {
   "cell_type": "code",
   "execution_count": null,
   "id": "b6446413-5d8c-41ec-9ff7-41c99b09befe",
   "metadata": {},
   "outputs": [],
   "source": [
    "# # filter_extremes 메서드를 사용하여 지나치게 자주 등장하거나 거의 등장하지 않는 단어들을 제거합니다.\n",
    "# # 최소 2개 이상의 문서에 등장하고, 전체 문서의 50% 이하에서 등장하는 단어만 남깁니다.\n",
    "# # 분류할 단어가 많다면no_below는 값을 올리고, no_above는 값을 줄인다!\n",
    "# id2word.filter_extremes(no_below=2, no_above=0.5)\n",
    "# print(len(id2word))\n",
    "# id2word.token2id"
   ]
  }
 ],
 "metadata": {
  "kernelspec": {
   "display_name": "Python 3 (ipykernel)",
   "language": "python",
   "name": "python3"
  },
  "language_info": {
   "codemirror_mode": {
    "name": "ipython",
    "version": 3
   },
   "file_extension": ".py",
   "mimetype": "text/x-python",
   "name": "python",
   "nbconvert_exporter": "python",
   "pygments_lexer": "ipython3",
   "version": "3.12.7"
  }
 },
 "nbformat": 4,
 "nbformat_minor": 5
}
