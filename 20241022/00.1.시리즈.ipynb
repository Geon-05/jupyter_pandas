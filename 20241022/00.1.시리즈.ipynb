{
 "cells": [
  {
   "cell_type": "code",
   "execution_count": 1,
   "id": "d496457a-f199-4320-bad2-ae3c5860d4d5",
   "metadata": {},
   "outputs": [
    {
     "data": {
      "text/plain": [
       "'d:\\\\jupyter\\\\practice\\\\20241022'"
      ]
     },
     "execution_count": 1,
     "metadata": {},
     "output_type": "execute_result"
    }
   ],
   "source": [
    "pwd"
   ]
  },
  {
   "cell_type": "code",
   "execution_count": 6,
   "id": "f8a408e5-7e17-44e0-a98d-4074a23ce324",
   "metadata": {},
   "outputs": [],
   "source": [
    "import pandas as pd\n",
    "import numpy as np"
   ]
  },
  {
   "cell_type": "code",
   "execution_count": 3,
   "id": "429c7dfd",
   "metadata": {},
   "outputs": [
    {
     "data": {
      "text/plain": [
       "0     3.0\n",
       "1     5.0\n",
       "2     7.0\n",
       "3     9.0\n",
       "4    11.0\n",
       "dtype: float32"
      ]
     },
     "execution_count": 3,
     "metadata": {},
     "output_type": "execute_result"
    }
   ],
   "source": [
    "arr = pd.array([3,5,7,9,11])\n",
    "pd.Series(arr, dtype='float32')"
   ]
  },
  {
   "cell_type": "code",
   "execution_count": 4,
   "id": "2fca1803",
   "metadata": {},
   "outputs": [
    {
     "data": {
      "text/plain": [
       "0     3.0\n",
       "1     5.0\n",
       "2     7.0\n",
       "3     9.0\n",
       "4    11.0\n",
       "dtype: float32"
      ]
     },
     "execution_count": 4,
     "metadata": {},
     "output_type": "execute_result"
    }
   ],
   "source": [
    "arr = [3,5,7,9,11]\n",
    "pd.Series(arr, dtype='float32')"
   ]
  },
  {
   "cell_type": "code",
   "execution_count": 8,
   "id": "d1d2123b",
   "metadata": {},
   "outputs": [
    {
     "data": {
      "text/plain": [
       "0    가\n",
       "1    나\n",
       "2    다\n",
       "3    라\n",
       "4    마\n",
       "dtype: object"
      ]
     },
     "execution_count": 8,
     "metadata": {},
     "output_type": "execute_result"
    }
   ],
   "source": [
    "arr = pd.array(['가','나','다','라','마'])\n",
    "pd.Series(arr, dtype='object')"
   ]
  },
  {
   "cell_type": "code",
   "execution_count": 4,
   "id": "0a8010dd",
   "metadata": {},
   "outputs": [
    {
     "data": {
      "text/plain": [
       "가    10\n",
       "나    20\n",
       "다    30\n",
       "라    40\n",
       "마    50\n",
       "dtype: int64"
      ]
     },
     "execution_count": 4,
     "metadata": {},
     "output_type": "execute_result"
    }
   ],
   "source": [
    "sample = pd.Series([10,20,30,40,50],dtype='int64',index=['가','나','다','라','마'])\n",
    "sample"
   ]
  },
  {
   "cell_type": "code",
   "execution_count": 5,
   "id": "a09bfbf3",
   "metadata": {},
   "outputs": [
    {
     "data": {
      "text/plain": [
       "나    20\n",
       "라    40\n",
       "dtype: int64"
      ]
     },
     "execution_count": 5,
     "metadata": {},
     "output_type": "execute_result"
    }
   ],
   "source": [
    "sample[['나','라']]"
   ]
  },
  {
   "cell_type": "code",
   "execution_count": 7,
   "id": "37889d36",
   "metadata": {},
   "outputs": [
    {
     "data": {
      "text/plain": [
       "0     199\n",
       "1     190\n",
       "2     115\n",
       "3     195\n",
       "4     128\n",
       "5     190\n",
       "6     109\n",
       "7     120\n",
       "8     175\n",
       "9     122\n",
       "10    171\n",
       "11    134\n",
       "12    196\n",
       "13    140\n",
       "14    185\n",
       "dtype: int32"
      ]
     },
     "execution_count": 7,
     "metadata": {},
     "output_type": "execute_result"
    }
   ],
   "source": [
    "np.random.seed(20)\n",
    "sample2 = pd.Series(np.random.randint(100, 200, size=(15,)))\n",
    "sample2"
   ]
  },
  {
   "cell_type": "code",
   "execution_count": 8,
   "id": "4c964d05",
   "metadata": {},
   "outputs": [
    {
     "data": {
      "text/plain": [
       "2     115\n",
       "4     128\n",
       "6     109\n",
       "7     120\n",
       "9     122\n",
       "11    134\n",
       "13    140\n",
       "dtype: int32"
      ]
     },
     "execution_count": 8,
     "metadata": {},
     "output_type": "execute_result"
    }
   ],
   "source": [
    "sample2[sample2 <= 160]"
   ]
  },
  {
   "cell_type": "code",
   "execution_count": 11,
   "id": "18942b9e",
   "metadata": {},
   "outputs": [
    {
     "data": {
      "text/plain": [
       "11    134\n",
       "13    140\n",
       "dtype: int32"
      ]
     },
     "execution_count": 11,
     "metadata": {},
     "output_type": "execute_result"
    }
   ],
   "source": [
    "sample2[(sample2 >= 130) & (sample2 <= 170)]"
   ]
  },
  {
   "cell_type": "code",
   "execution_count": 27,
   "id": "64e63498",
   "metadata": {},
   "outputs": [
    {
     "data": {
      "text/plain": [
       "가     apple\n",
       "나       NaN\n",
       "다    banana\n",
       "라      kiwi\n",
       "마    gubong\n",
       "dtype: object"
      ]
     },
     "execution_count": 27,
     "metadata": {},
     "output_type": "execute_result"
    }
   ],
   "source": [
    "pd.Series(['apple',np.nan,'banana','kiwi','gubong'], index=['가','나','다','라','마'])"
   ]
  },
  {
   "cell_type": "code",
   "execution_count": 30,
   "id": "39b770e3",
   "metadata": {},
   "outputs": [
    {
     "data": {
      "text/plain": [
       "1    NaN\n",
       "3    NaN\n",
       "dtype: object"
      ]
     },
     "execution_count": 30,
     "metadata": {},
     "output_type": "execute_result"
    }
   ],
   "source": [
    "sample = pd.Series(['IT서비스', np.nan, '반도체', np.nan, '바이오', '자율주행'])\n",
    "sample[sample.isnull()]"
   ]
  },
  {
   "cell_type": "code",
   "execution_count": 33,
   "id": "c539f64d",
   "metadata": {},
   "outputs": [
    {
     "data": {
      "text/plain": [
       "0    IT서비스\n",
       "2      반도체\n",
       "4      바이오\n",
       "5     자율주행\n",
       "dtype: object"
      ]
     },
     "execution_count": 33,
     "metadata": {},
     "output_type": "execute_result"
    }
   ],
   "source": [
    "sample[~sample.isnull()]"
   ]
  },
  {
   "cell_type": "code",
   "execution_count": 38,
   "id": "798e6231",
   "metadata": {},
   "outputs": [
    {
     "data": {
      "text/plain": [
       "2    164\n",
       "3    167\n",
       "4    167\n",
       "5    109\n",
       "6    183\n",
       "dtype: int32"
      ]
     },
     "execution_count": 38,
     "metadata": {},
     "output_type": "execute_result"
    }
   ],
   "source": [
    "np.random.seed(0)\n",
    "sample = pd.Series(np.random.randint(100, 200, size=(10,)))\n",
    "sample[2:7]"
   ]
  },
  {
   "cell_type": "code",
   "execution_count": 43,
   "id": "92441e46",
   "metadata": {},
   "outputs": [
    {
     "data": {
      "text/plain": [
       "바    109\n",
       "사    183\n",
       "아    121\n",
       "자    136\n",
       "차    187\n",
       "dtype: int32"
      ]
     },
     "execution_count": 43,
     "metadata": {},
     "output_type": "execute_result"
    }
   ],
   "source": [
    "np.random.seed(0)\n",
    "sample2 = pd.Series(np.random.randint(100, 200, size=(10,)), index=list('가나다라마바사아자차'))\n",
    "sample2['바':'차']"
   ]
  },
  {
   "cell_type": "code",
   "execution_count": 44,
   "id": "b9519b99",
   "metadata": {},
   "outputs": [
    {
     "data": {
      "text/plain": [
       "가    144\n",
       "나    147\n",
       "다    164\n",
       "dtype: int32"
      ]
     },
     "execution_count": 44,
     "metadata": {},
     "output_type": "execute_result"
    }
   ],
   "source": [
    "sample2[:'다']"
   ]
  },
  {
   "cell_type": "code",
   "execution_count": 45,
   "id": "240c03b9",
   "metadata": {},
   "outputs": [
    {
     "data": {
      "text/plain": [
       "나    147\n",
       "다    164\n",
       "라    167\n",
       "마    167\n",
       "바    109\n",
       "dtype: int32"
      ]
     },
     "execution_count": 45,
     "metadata": {},
     "output_type": "execute_result"
    }
   ],
   "source": [
    "sample2['나':'바']"
   ]
  },
  {
   "cell_type": "code",
   "execution_count": null,
   "id": "91133fb4",
   "metadata": {},
   "outputs": [],
   "source": []
  }
 ],
 "metadata": {
  "kernelspec": {
   "display_name": "py12",
   "language": "python",
   "name": "python3"
  },
  "language_info": {
   "codemirror_mode": {
    "name": "ipython",
    "version": 3
   },
   "file_extension": ".py",
   "mimetype": "text/x-python",
   "name": "python",
   "nbconvert_exporter": "python",
   "pygments_lexer": "ipython3",
   "version": "3.12.7"
  }
 },
 "nbformat": 4,
 "nbformat_minor": 5
}
