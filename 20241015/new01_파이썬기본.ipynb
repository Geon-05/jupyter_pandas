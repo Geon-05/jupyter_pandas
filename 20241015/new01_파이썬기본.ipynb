{
 "cells": [
  {
   "cell_type": "code",
   "execution_count": 1,
   "id": "4a07b21a-ee8f-49fc-8ca8-b24a063a42de",
   "metadata": {},
   "outputs": [],
   "source": [
    "sample = 'abc-def.789/100'"
   ]
  },
  {
   "cell_type": "code",
   "execution_count": 2,
   "id": "62df7112-d967-4a3d-afc6-704348f8be80",
   "metadata": {},
   "outputs": [
    {
     "data": {
      "text/plain": [
       "['abc-def', '789/100']"
      ]
     },
     "execution_count": 2,
     "metadata": {},
     "output_type": "execute_result"
    }
   ],
   "source": [
    "sample.split('.')"
   ]
  },
  {
   "cell_type": "code",
   "execution_count": 3,
   "id": "3647f887-b150-4603-8b93-97148215d232",
   "metadata": {},
   "outputs": [
    {
     "data": {
      "text/plain": [
       "['abc', 'def.789/100']"
      ]
     },
     "execution_count": 3,
     "metadata": {},
     "output_type": "execute_result"
    }
   ],
   "source": [
    "sample.split('-')"
   ]
  },
  {
   "cell_type": "code",
   "execution_count": 4,
   "id": "15d259da-0f18-42a3-b4ae-d5f394b6aa91",
   "metadata": {},
   "outputs": [],
   "source": [
    "sample = ['Python', 'is', 'too', 'interesting']"
   ]
  },
  {
   "cell_type": "code",
   "execution_count": 5,
   "id": "6500688d-4822-4790-b6cb-9a153470bccf",
   "metadata": {},
   "outputs": [
    {
     "data": {
      "text/plain": [
       "'Python is too interesting'"
      ]
     },
     "execution_count": 5,
     "metadata": {},
     "output_type": "execute_result"
    }
   ],
   "source": [
    "' '.join(sample)"
   ]
  },
  {
   "cell_type": "code",
   "execution_count": 6,
   "id": "5202e431-fdc4-482a-b25d-358f8a306557",
   "metadata": {},
   "outputs": [],
   "source": [
    "a = '01-sample.png'"
   ]
  },
  {
   "cell_type": "markdown",
   "id": "3ed52143-ae02-47b1-99dc-6ce93084cb7e",
   "metadata": {},
   "source": [
    "### startswith() : 시작하는\n",
    "\n",
    "- 지정한 문자열로 시작하면 True, 그렇지 않다면 False를 반환합니다."
   ]
  },
  {
   "cell_type": "code",
   "execution_count": 7,
   "id": "89616c18-8a6f-4830-b12c-73c2128e3069",
   "metadata": {},
   "outputs": [
    {
     "data": {
      "text/plain": [
       "True"
      ]
     },
     "execution_count": 7,
     "metadata": {},
     "output_type": "execute_result"
    }
   ],
   "source": [
    "a.startswith('01')"
   ]
  },
  {
   "cell_type": "code",
   "execution_count": 8,
   "id": "2a517460-d186-4bd0-bf92-b0cadcd6a461",
   "metadata": {},
   "outputs": [
    {
     "data": {
      "text/plain": [
       "False"
      ]
     },
     "execution_count": 8,
     "metadata": {},
     "output_type": "execute_result"
    }
   ],
   "source": [
    "a.startswith('02')"
   ]
  },
  {
   "cell_type": "markdown",
   "id": "d599bf91-5a42-42db-ab2e-0a05836b6174",
   "metadata": {},
   "source": [
    "### endswith() : 끝나는\n",
    "\n",
    "- 지정한 문자열로 끝나면 True, 그렇지 않다면 False를 반환합니다."
   ]
  },
  {
   "cell_type": "code",
   "execution_count": 9,
   "id": "12f8c0d4-2508-40e5-9599-88b5aae6b061",
   "metadata": {},
   "outputs": [
    {
     "data": {
      "text/plain": [
       "True"
      ]
     },
     "execution_count": 9,
     "metadata": {},
     "output_type": "execute_result"
    }
   ],
   "source": [
    "a.endswith('.png')"
   ]
  },
  {
   "cell_type": "code",
   "execution_count": 10,
   "id": "d3605985-f327-431d-9815-4ed6e69d2dc1",
   "metadata": {},
   "outputs": [
    {
     "data": {
      "text/plain": [
       "False"
      ]
     },
     "execution_count": 10,
     "metadata": {},
     "output_type": "execute_result"
    }
   ],
   "source": [
    "a.endswith('.jpg')"
   ]
  },
  {
   "cell_type": "code",
   "execution_count": null,
   "id": "820d20f0-6de3-4266-bc5d-55a8be1b34f5",
   "metadata": {},
   "outputs": [],
   "source": []
  }
 ],
 "metadata": {
  "kernelspec": {
   "display_name": "Python 3 (ipykernel)",
   "language": "python",
   "name": "python3"
  },
  "language_info": {
   "codemirror_mode": {
    "name": "ipython",
    "version": 3
   },
   "file_extension": ".py",
   "mimetype": "text/x-python",
   "name": "python",
   "nbconvert_exporter": "python",
   "pygments_lexer": "ipython3",
   "version": "3.12.7"
  }
 },
 "nbformat": 4,
 "nbformat_minor": 5
}
