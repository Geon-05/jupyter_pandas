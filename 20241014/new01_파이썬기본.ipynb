{
 "cells": [
  {
   "cell_type": "code",
   "execution_count": 85,
   "id": "26d7ab13-1093-41d5-92dd-b28424901c8f",
   "metadata": {},
   "outputs": [],
   "source": [
    "import pandas as pd"
   ]
  },
  {
   "cell_type": "code",
   "execution_count": 1,
   "id": "aa845ea3-8073-4cd2-92c8-ffb850eea582",
   "metadata": {},
   "outputs": [],
   "source": [
    "mylist = [1,2,3,4,5,6]"
   ]
  },
  {
   "cell_type": "code",
   "execution_count": 2,
   "id": "afe57455-3405-411a-9882-96c675089b28",
   "metadata": {},
   "outputs": [
    {
     "data": {
      "text/plain": [
       "[1, 2, 3, 4, 5, 6]"
      ]
     },
     "execution_count": 2,
     "metadata": {},
     "output_type": "execute_result"
    }
   ],
   "source": [
    "mylist"
   ]
  },
  {
   "cell_type": "code",
   "execution_count": 3,
   "id": "89a6df86-01bf-42a6-8075-fe4495d1c26d",
   "metadata": {},
   "outputs": [
    {
     "data": {
      "text/plain": [
       "[6, 5, 4, 3, 2, 1]"
      ]
     },
     "execution_count": 3,
     "metadata": {},
     "output_type": "execute_result"
    }
   ],
   "source": [
    "mylist[::-1]"
   ]
  },
  {
   "cell_type": "code",
   "execution_count": 4,
   "id": "ebc86197-c019-4c21-9419-fad6b80a2c30",
   "metadata": {},
   "outputs": [
    {
     "data": {
      "text/plain": [
       "6"
      ]
     },
     "execution_count": 4,
     "metadata": {},
     "output_type": "execute_result"
    }
   ],
   "source": [
    "mylist.pop()"
   ]
  },
  {
   "cell_type": "code",
   "execution_count": 5,
   "id": "a4eae955-e092-4549-812e-877309cf295a",
   "metadata": {},
   "outputs": [
    {
     "data": {
      "text/plain": [
       "[1, 2, 3, 4, 5]"
      ]
     },
     "execution_count": 5,
     "metadata": {},
     "output_type": "execute_result"
    }
   ],
   "source": [
    "mylist"
   ]
  },
  {
   "cell_type": "code",
   "execution_count": 6,
   "id": "de34e6d3-d7df-461b-a283-6818fa3274d2",
   "metadata": {},
   "outputs": [],
   "source": [
    "res = mylist.remove(3)"
   ]
  },
  {
   "cell_type": "code",
   "execution_count": 7,
   "id": "6798637e-dd24-46dc-9842-432570cc6048",
   "metadata": {},
   "outputs": [],
   "source": [
    "res"
   ]
  },
  {
   "cell_type": "code",
   "execution_count": 8,
   "id": "b0bdaf7d-03cd-46e5-b35c-8570a424af6f",
   "metadata": {},
   "outputs": [],
   "source": [
    "res = mylist.pop()"
   ]
  },
  {
   "cell_type": "code",
   "execution_count": 9,
   "id": "1360dd8a-3e3a-4bd8-ba8c-e0bb43be6aae",
   "metadata": {},
   "outputs": [
    {
     "data": {
      "text/plain": [
       "5"
      ]
     },
     "execution_count": 9,
     "metadata": {},
     "output_type": "execute_result"
    }
   ],
   "source": [
    "res"
   ]
  },
  {
   "cell_type": "code",
   "execution_count": 10,
   "id": "0a78094c-ef35-4aba-a2c4-67ba34771850",
   "metadata": {},
   "outputs": [
    {
     "data": {
      "text/plain": [
       "[1, 2, 3, 4, 5]"
      ]
     },
     "execution_count": 10,
     "metadata": {},
     "output_type": "execute_result"
    }
   ],
   "source": [
    "[1,2,3]+[4,5]"
   ]
  },
  {
   "cell_type": "code",
   "execution_count": 11,
   "id": "fc05ab92-8b3e-482e-a5a2-441576f49afb",
   "metadata": {},
   "outputs": [
    {
     "data": {
      "text/plain": [
       "[1, 2, 3, 4, 5]"
      ]
     },
     "execution_count": 11,
     "metadata": {},
     "output_type": "execute_result"
    }
   ],
   "source": [
    "a = [1,2,3]\n",
    "b = [4,5]\n",
    "a+b"
   ]
  },
  {
   "cell_type": "code",
   "execution_count": 12,
   "id": "848ed84a-d202-456a-ae7a-ded93ba39e3c",
   "metadata": {},
   "outputs": [
    {
     "data": {
      "text/plain": [
       "['어벤져스', '아이언맨', '토르', '스파이더맨', '액스맨']"
      ]
     },
     "execution_count": 12,
     "metadata": {},
     "output_type": "execute_result"
    }
   ],
   "source": [
    "movie = ['어벤져스','아이언맨','토르','스파이더맨']\n",
    "movie.append('액스맨')\n",
    "movie"
   ]
  },
  {
   "cell_type": "code",
   "execution_count": 13,
   "id": "723a3f88-c8a7-4f4b-a4c5-cd28afa4806d",
   "metadata": {},
   "outputs": [
    {
     "data": {
      "text/plain": [
       "['어벤져스', '데드풀', '아이언맨', '토르', '스파이더맨', '액스맨']"
      ]
     },
     "execution_count": 13,
     "metadata": {},
     "output_type": "execute_result"
    }
   ],
   "source": [
    "movie.insert(1,'데드풀')\n",
    "movie"
   ]
  },
  {
   "cell_type": "code",
   "execution_count": 14,
   "id": "750da683-e0f7-4bda-9c3b-21288c67a823",
   "metadata": {},
   "outputs": [
    {
     "data": {
      "text/plain": [
       "['어벤져스', '데드풀', '토르', '스파이더맨', '액스맨']"
      ]
     },
     "execution_count": 14,
     "metadata": {},
     "output_type": "execute_result"
    }
   ],
   "source": [
    "movie.remove('아이언맨')\n",
    "movie"
   ]
  },
  {
   "cell_type": "code",
   "execution_count": 15,
   "id": "e951ce54-d97b-452a-9583-30a8334ebe94",
   "metadata": {},
   "outputs": [
    {
     "data": {
      "text/plain": [
       "['어벤져스', '토르', '스파이더맨', '액스맨']"
      ]
     },
     "execution_count": 15,
     "metadata": {},
     "output_type": "execute_result"
    }
   ],
   "source": [
    "movie.pop(1)\n",
    "movie"
   ]
  },
  {
   "cell_type": "code",
   "execution_count": 16,
   "id": "c9090f33-1825-41d3-a47d-c2535e5d4c4c",
   "metadata": {},
   "outputs": [],
   "source": [
    "kr_movie = ['승리호','신세계','타짜']"
   ]
  },
  {
   "cell_type": "code",
   "execution_count": 17,
   "id": "88150f8a-d3e6-4a8f-a4ed-db206ec681c3",
   "metadata": {},
   "outputs": [
    {
     "name": "stdout",
     "output_type": "stream",
     "text": [
      "['스파이더맨', '승리호', '신세계', '액스맨', '어벤져스', '타짜', '토르']\n"
     ]
    }
   ],
   "source": [
    "movie.extend(kr_movie)\n",
    "movie.sort()\n",
    "print(movie)"
   ]
  },
  {
   "cell_type": "code",
   "execution_count": 18,
   "id": "ee3aa4ee-de62-4c8a-a97d-13a0bd76b74e",
   "metadata": {},
   "outputs": [],
   "source": [
    "mylist = [1, 2, 3, 4]"
   ]
  },
  {
   "cell_type": "code",
   "execution_count": 19,
   "id": "1ef4297e-e879-4fbf-9385-713781b20da0",
   "metadata": {},
   "outputs": [],
   "source": [
    "mylist[:2] = [3,4]"
   ]
  },
  {
   "cell_type": "code",
   "execution_count": 20,
   "id": "099259ad-f182-4cdc-b119-8d1f5b5e42ac",
   "metadata": {},
   "outputs": [
    {
     "data": {
      "text/plain": [
       "[3, 4, 3, 4]"
      ]
     },
     "execution_count": 20,
     "metadata": {},
     "output_type": "execute_result"
    }
   ],
   "source": [
    "mylist"
   ]
  },
  {
   "cell_type": "code",
   "execution_count": 21,
   "id": "c8adf4dd-9891-482a-86c4-cdc3ecf9a0a3",
   "metadata": {},
   "outputs": [],
   "source": [
    "mylist = [['가', '나', '다'], [4, 5, 6], 7, 8, 9]"
   ]
  },
  {
   "cell_type": "code",
   "execution_count": 22,
   "id": "1a6e5e59-5f0b-4f18-88f9-7482a22ec911",
   "metadata": {},
   "outputs": [
    {
     "data": {
      "text/plain": [
       "'가'"
      ]
     },
     "execution_count": 22,
     "metadata": {},
     "output_type": "execute_result"
    }
   ],
   "source": [
    "mylist[0][0][0]"
   ]
  },
  {
   "cell_type": "code",
   "execution_count": 23,
   "id": "d1809117-0838-4ca3-8d4d-6a1f80761bd2",
   "metadata": {},
   "outputs": [
    {
     "data": {
      "text/plain": [
       "'가'"
      ]
     },
     "execution_count": 23,
     "metadata": {},
     "output_type": "execute_result"
    }
   ],
   "source": [
    "mylist[0][0]"
   ]
  },
  {
   "cell_type": "code",
   "execution_count": 24,
   "id": "907b4336-0611-44f2-93ae-adcd26eb1f73",
   "metadata": {},
   "outputs": [],
   "source": [
    "fruit = ['사과', '바나나', '파인애플', '배', '수박', '키위', '오렌지', '망고', '딸기']"
   ]
  },
  {
   "cell_type": "code",
   "execution_count": 25,
   "id": "1fb38f7d-2d01-41a6-8ea0-e32dcd1284e8",
   "metadata": {},
   "outputs": [
    {
     "data": {
      "text/plain": [
       "['파인애플', '배', '수박']"
      ]
     },
     "execution_count": 25,
     "metadata": {},
     "output_type": "execute_result"
    }
   ],
   "source": [
    "fruit[2:5]"
   ]
  },
  {
   "cell_type": "code",
   "execution_count": 26,
   "id": "908b1621-0a04-4e58-aff3-479a80739334",
   "metadata": {},
   "outputs": [
    {
     "data": {
      "text/plain": [
       "['망고', '딸기']"
      ]
     },
     "execution_count": 26,
     "metadata": {},
     "output_type": "execute_result"
    }
   ],
   "source": [
    "fruit[-2:]"
   ]
  },
  {
   "cell_type": "code",
   "execution_count": 27,
   "id": "8c3f01f8-a6a5-4e00-9668-c064c5468774",
   "metadata": {},
   "outputs": [
    {
     "data": {
      "text/plain": [
       "['사과', '바나나', '파인애플']"
      ]
     },
     "execution_count": 27,
     "metadata": {},
     "output_type": "execute_result"
    }
   ],
   "source": [
    "fruit[:3]"
   ]
  },
  {
   "cell_type": "code",
   "execution_count": 28,
   "id": "47353cca-ac60-4a08-8b05-b1d2a93b5090",
   "metadata": {},
   "outputs": [
    {
     "data": {
      "text/plain": [
       "['배', '수박', '키위', '오렌지', '망고', '딸기']"
      ]
     },
     "execution_count": 28,
     "metadata": {},
     "output_type": "execute_result"
    }
   ],
   "source": [
    "fruit[-6:]"
   ]
  },
  {
   "cell_type": "code",
   "execution_count": 29,
   "id": "e56f164b-71be-4c58-b0d7-135d64df7925",
   "metadata": {},
   "outputs": [],
   "source": [
    "sample = [1, 3, 5, 4, 2]"
   ]
  },
  {
   "cell_type": "code",
   "execution_count": 30,
   "id": "4fac84f6-5b69-4931-aeb7-3aad9566eef6",
   "metadata": {},
   "outputs": [],
   "source": [
    "sample.reverse()"
   ]
  },
  {
   "cell_type": "code",
   "execution_count": 31,
   "id": "06c723b3-a7e9-4ed7-bb68-0e76a0e76318",
   "metadata": {},
   "outputs": [
    {
     "data": {
      "text/plain": [
       "[2, 4, 5, 3, 1]"
      ]
     },
     "execution_count": 31,
     "metadata": {},
     "output_type": "execute_result"
    }
   ],
   "source": [
    "sample"
   ]
  },
  {
   "cell_type": "code",
   "execution_count": 32,
   "id": "e8117546-9dfa-4eb8-9f8e-e9d18b8e840a",
   "metadata": {},
   "outputs": [
    {
     "data": {
      "text/plain": [
       "[1, 5, 2]"
      ]
     },
     "execution_count": 32,
     "metadata": {},
     "output_type": "execute_result"
    }
   ],
   "source": [
    "sample[::-2]"
   ]
  },
  {
   "cell_type": "code",
   "execution_count": 33,
   "id": "80d51ed6-aad4-4c10-ab4c-5085018722df",
   "metadata": {},
   "outputs": [
    {
     "data": {
      "text/plain": [
       "[5, 1]"
      ]
     },
     "execution_count": 33,
     "metadata": {},
     "output_type": "execute_result"
    }
   ],
   "source": [
    "sample[2::2]"
   ]
  },
  {
   "cell_type": "code",
   "execution_count": 34,
   "id": "fa1f0e80-65bb-4b6c-adee-f37dbc6ea6e6",
   "metadata": {},
   "outputs": [
    {
     "data": {
      "text/plain": [
       "[[1, 2, 3], [4, 5, 6], [7, 8]]"
      ]
     },
     "execution_count": 34,
     "metadata": {},
     "output_type": "execute_result"
    }
   ],
   "source": [
    "myList = [[1,2,3],[4,5,6],[7,8]]\n",
    "myList"
   ]
  },
  {
   "cell_type": "code",
   "execution_count": 35,
   "id": "b02672cc-228c-4ce6-876f-119f0a02898f",
   "metadata": {},
   "outputs": [],
   "source": [
    "myList[2].append(9)"
   ]
  },
  {
   "cell_type": "code",
   "execution_count": 36,
   "id": "46d91f46-6616-4bdd-acb2-d011308f32fc",
   "metadata": {},
   "outputs": [
    {
     "data": {
      "text/plain": [
       "[[1, 2, 3], [4, 5, 6], [7, 8, 9]]"
      ]
     },
     "execution_count": 36,
     "metadata": {},
     "output_type": "execute_result"
    }
   ],
   "source": [
    "myList"
   ]
  },
  {
   "cell_type": "code",
   "execution_count": 37,
   "id": "cee9f141-84f1-4f66-b406-8b002164674a",
   "metadata": {},
   "outputs": [],
   "source": [
    "a = (1, 2, 3, 4)"
   ]
  },
  {
   "cell_type": "code",
   "execution_count": 38,
   "id": "ab038e8c-f11f-41ca-a8e0-ed4d51df0c7f",
   "metadata": {},
   "outputs": [
    {
     "data": {
      "text/plain": [
       "(1, 100, 2, 3, 4)"
      ]
     },
     "execution_count": 38,
     "metadata": {},
     "output_type": "execute_result"
    }
   ],
   "source": [
    "a = list(a)\n",
    "a.insert(1,100)\n",
    "b = tuple(a)\n",
    "b"
   ]
  },
  {
   "cell_type": "code",
   "execution_count": 39,
   "id": "ea23e5d1-10b8-4b0f-9a44-68a2c9d07d13",
   "metadata": {},
   "outputs": [
    {
     "data": {
      "text/plain": [
       "set()"
      ]
     },
     "execution_count": 39,
     "metadata": {},
     "output_type": "execute_result"
    }
   ],
   "source": [
    "myset = set()\n",
    "myset"
   ]
  },
  {
   "cell_type": "code",
   "execution_count": 40,
   "id": "545e49fa-ef61-4aa4-b845-be3d919d0f5b",
   "metadata": {},
   "outputs": [
    {
     "data": {
      "text/plain": [
       "{1, 2, 3}"
      ]
     },
     "execution_count": 40,
     "metadata": {},
     "output_type": "execute_result"
    }
   ],
   "source": [
    "myset = set([1, 1, 1, 2, 2, 2, 3, 3, 3])\n",
    "myset"
   ]
  },
  {
   "cell_type": "code",
   "execution_count": 41,
   "id": "7401302b-9c45-4092-96c4-58d431891898",
   "metadata": {},
   "outputs": [
    {
     "data": {
      "text/plain": [
       "{1, 2, 3}"
      ]
     },
     "execution_count": 41,
     "metadata": {},
     "output_type": "execute_result"
    }
   ],
   "source": [
    "myset = {1, 1, 1, 2, 2, 2, 3, 3, 3}\n",
    "myset"
   ]
  },
  {
   "cell_type": "code",
   "execution_count": 42,
   "id": "b9135983-674d-41c0-9039-5430ed5e47d1",
   "metadata": {},
   "outputs": [],
   "source": [
    "myset.add(1)"
   ]
  },
  {
   "cell_type": "code",
   "execution_count": 43,
   "id": "d42aef04-f18b-4db2-a890-81aea7be0ee8",
   "metadata": {},
   "outputs": [
    {
     "data": {
      "text/plain": [
       "{1, 2, 3}"
      ]
     },
     "execution_count": 43,
     "metadata": {},
     "output_type": "execute_result"
    }
   ],
   "source": [
    "myset"
   ]
  },
  {
   "cell_type": "code",
   "execution_count": 44,
   "id": "e71d02ce-d9bf-4aa2-be1c-b1a3ce02ebf6",
   "metadata": {},
   "outputs": [],
   "source": [
    "myset.update([3,4,5])"
   ]
  },
  {
   "cell_type": "code",
   "execution_count": 45,
   "id": "a42f4cda-4138-4097-abcd-b3e6e034ba1d",
   "metadata": {},
   "outputs": [
    {
     "data": {
      "text/plain": [
       "{1, 2, 3, 4, 5}"
      ]
     },
     "execution_count": 45,
     "metadata": {},
     "output_type": "execute_result"
    }
   ],
   "source": [
    "myset"
   ]
  },
  {
   "cell_type": "code",
   "execution_count": 46,
   "id": "53ae5412-10ca-4509-b918-cf77b818dd97",
   "metadata": {},
   "outputs": [],
   "source": [
    "myset.remove(2)"
   ]
  },
  {
   "cell_type": "code",
   "execution_count": 47,
   "id": "e535508e-7ad9-4061-8989-75681d02f483",
   "metadata": {},
   "outputs": [
    {
     "data": {
      "text/plain": [
       "{1, 3, 4, 5}"
      ]
     },
     "execution_count": 47,
     "metadata": {},
     "output_type": "execute_result"
    }
   ],
   "source": [
    "myset"
   ]
  },
  {
   "cell_type": "code",
   "execution_count": 48,
   "id": "96cd1003-bdac-4969-9b56-5b9e5a892bd7",
   "metadata": {},
   "outputs": [
    {
     "name": "stdout",
     "output_type": "stream",
     "text": [
      "sample1: {1, 2, 3, 4, 5}\n",
      "sample2: {2, 4, 5, 6, 7}\n"
     ]
    }
   ],
   "source": [
    "sample1 = {1, 2, 3, 4, 5}\n",
    "sample2 = {2, 4, 5, 6, 7}\n",
    "\n",
    "print(f'sample1: {sample1}')\n",
    "print(f'sample2: {sample2}')"
   ]
  },
  {
   "cell_type": "code",
   "execution_count": 49,
   "id": "4e572f90-9924-4caa-8481-cbfff4d0d0ff",
   "metadata": {},
   "outputs": [
    {
     "data": {
      "text/plain": [
       "{1, 2, 3, 4, 5, 6}"
      ]
     },
     "execution_count": 49,
     "metadata": {},
     "output_type": "execute_result"
    }
   ],
   "source": [
    "sample1.add(6)\n",
    "sample1"
   ]
  },
  {
   "cell_type": "code",
   "execution_count": 50,
   "id": "51223a0a-897b-47c2-b5a7-78a9ca5292ba",
   "metadata": {},
   "outputs": [
    {
     "data": {
      "text/plain": [
       "{4, 5, 6, 7}"
      ]
     },
     "execution_count": 50,
     "metadata": {},
     "output_type": "execute_result"
    }
   ],
   "source": [
    "sample2.remove(2)\n",
    "sample2"
   ]
  },
  {
   "cell_type": "code",
   "execution_count": 51,
   "id": "6a02291a-d2f7-42f9-8121-58f24a29d269",
   "metadata": {},
   "outputs": [
    {
     "data": {
      "text/plain": [
       "{4, 5, 6}"
      ]
     },
     "execution_count": 51,
     "metadata": {},
     "output_type": "execute_result"
    }
   ],
   "source": [
    "sample1 & sample2"
   ]
  },
  {
   "cell_type": "code",
   "execution_count": 52,
   "id": "256cd189-ad8f-4b5b-8c29-2b0be2f9012d",
   "metadata": {},
   "outputs": [
    {
     "data": {
      "text/plain": [
       "{1, 2, 3, 4, 5, 6, 7}"
      ]
     },
     "execution_count": 52,
     "metadata": {},
     "output_type": "execute_result"
    }
   ],
   "source": [
    "sample1 | sample2"
   ]
  },
  {
   "cell_type": "code",
   "execution_count": 53,
   "id": "59308dba-c2f5-4f61-a326-6749eb1ad134",
   "metadata": {},
   "outputs": [
    {
     "data": {
      "text/plain": [
       "{1, 2, 3}"
      ]
     },
     "execution_count": 53,
     "metadata": {},
     "output_type": "execute_result"
    }
   ],
   "source": [
    "sample1 - sample2"
   ]
  },
  {
   "cell_type": "code",
   "execution_count": 54,
   "id": "d85c237f-b0ed-48ef-9a4a-4ef463e284cb",
   "metadata": {},
   "outputs": [
    {
     "data": {
      "text/plain": [
       "{7}"
      ]
     },
     "execution_count": 54,
     "metadata": {},
     "output_type": "execute_result"
    }
   ],
   "source": [
    "sample2 - sample1"
   ]
  },
  {
   "cell_type": "code",
   "execution_count": 55,
   "id": "6d227989-4377-4478-9f0e-9f2c5be36cd2",
   "metadata": {},
   "outputs": [],
   "source": [
    "numList = [1, 3, 2, 3, 7, 6, 8, 4, 10, 5, 3, 8, 9]"
   ]
  },
  {
   "cell_type": "code",
   "execution_count": 56,
   "id": "af9b7dd9-25c6-41a5-afa7-394fc6b6c092",
   "metadata": {},
   "outputs": [
    {
     "data": {
      "text/plain": [
       "[1, 2, 3, 4, 5, 6, 7, 8, 9, 10]"
      ]
     },
     "execution_count": 56,
     "metadata": {},
     "output_type": "execute_result"
    }
   ],
   "source": [
    "list(set(numList))"
   ]
  },
  {
   "cell_type": "code",
   "execution_count": 57,
   "id": "b9931d6a-6530-4bf2-ae85-1eff2f1b4ee5",
   "metadata": {},
   "outputs": [
    {
     "name": "stdout",
     "output_type": "stream",
     "text": [
      "<class 'dict'>\n"
     ]
    },
    {
     "data": {
      "text/plain": [
       "{}"
      ]
     },
     "execution_count": 57,
     "metadata": {},
     "output_type": "execute_result"
    }
   ],
   "source": [
    "mydict = dict()\n",
    "print(type(mydict))\n",
    "mydict"
   ]
  },
  {
   "cell_type": "code",
   "execution_count": 58,
   "id": "08f50cd3-faa9-4a0b-8a9d-e2c72d6fd14e",
   "metadata": {},
   "outputs": [
    {
     "name": "stdout",
     "output_type": "stream",
     "text": [
      "<class 'dict'>\n"
     ]
    },
    {
     "data": {
      "text/plain": [
       "{'a': 1, 'b': 2, 'c': 3}"
      ]
     },
     "execution_count": 58,
     "metadata": {},
     "output_type": "execute_result"
    }
   ],
   "source": [
    "mydict = {'a': 1, 'b': 2, 'c': 3}\n",
    "print(type(mydict))\n",
    "mydict"
   ]
  },
  {
   "cell_type": "code",
   "execution_count": 59,
   "id": "3fe53360-d18e-4948-97b3-8fecbcb79cba",
   "metadata": {},
   "outputs": [
    {
     "data": {
      "text/plain": [
       "{'파인애플': 1500, '망고': 3500, '배': 1000}"
      ]
     },
     "execution_count": 59,
     "metadata": {},
     "output_type": "execute_result"
    }
   ],
   "source": [
    "mydict = {'파인애플': 1500, '망고': 3500, '배': 1000}\n",
    "mydict"
   ]
  },
  {
   "cell_type": "code",
   "execution_count": 60,
   "id": "b3a5bca6-bb44-4b72-b5b4-7d5177b8d079",
   "metadata": {},
   "outputs": [],
   "source": [
    "fruit = {\n",
    "    '사과': 2000, \n",
    "    '딸기': 3000, \n",
    "    '수박': 5000, \n",
    "}"
   ]
  },
  {
   "cell_type": "code",
   "execution_count": 61,
   "id": "d6d48ef1-6406-43e9-bef5-56cc971b2b35",
   "metadata": {},
   "outputs": [
    {
     "data": {
      "text/plain": [
       "{'파인애플': 1500, '망고': 3500, '배': 1000, '사과': 2000, '딸기': 3000, '수박': 5000}"
      ]
     },
     "execution_count": 61,
     "metadata": {},
     "output_type": "execute_result"
    }
   ],
   "source": [
    "mydict.update(fruit)\n",
    "mydict"
   ]
  },
  {
   "cell_type": "code",
   "execution_count": 62,
   "id": "d8147c67-47e9-4327-9f77-42daccd89150",
   "metadata": {},
   "outputs": [
    {
     "data": {
      "text/plain": [
       "{'a': 100, 'b': 200, 'c': 300, 'd': 400, 'e': 500}"
      ]
     },
     "execution_count": 62,
     "metadata": {},
     "output_type": "execute_result"
    }
   ],
   "source": [
    "mydict = {'a': 100, 'b': 200, 'c': 300, 'd': 400, 'e': 500}\n",
    "mydict"
   ]
  },
  {
   "cell_type": "code",
   "execution_count": 63,
   "id": "25f42acc-127f-4543-b8e9-ed3817a0f32e",
   "metadata": {},
   "outputs": [],
   "source": [
    "mydict['a'] = 900"
   ]
  },
  {
   "cell_type": "code",
   "execution_count": 64,
   "id": "c6ee4933-3d43-4e5c-a0cf-01db089e4f89",
   "metadata": {},
   "outputs": [
    {
     "data": {
      "text/plain": [
       "{'a': 900, 'b': 200, 'c': 300, 'd': 400, 'e': 500}"
      ]
     },
     "execution_count": 64,
     "metadata": {},
     "output_type": "execute_result"
    }
   ],
   "source": [
    "mydict"
   ]
  },
  {
   "cell_type": "code",
   "execution_count": 65,
   "id": "7a24dff7-4444-4ffe-905a-8fae0297923b",
   "metadata": {},
   "outputs": [
    {
     "data": {
      "text/plain": [
       "{'b': 200, 'c': 300, 'd': 400, 'e': 500}"
      ]
     },
     "execution_count": 65,
     "metadata": {},
     "output_type": "execute_result"
    }
   ],
   "source": [
    "del mydict['a']\n",
    "mydict"
   ]
  },
  {
   "cell_type": "code",
   "execution_count": 66,
   "id": "d13e452d-7fe7-467b-ac94-043675e68588",
   "metadata": {},
   "outputs": [
    {
     "data": {
      "text/plain": [
       "{'c': 300, 'd': 400, 'e': 500}"
      ]
     },
     "execution_count": 66,
     "metadata": {},
     "output_type": "execute_result"
    }
   ],
   "source": [
    "mydict.pop('b')\n",
    "mydict"
   ]
  },
  {
   "cell_type": "code",
   "execution_count": 69,
   "id": "a1504cfb-7661-4174-acc1-05ccd10f9f18",
   "metadata": {},
   "outputs": [],
   "source": [
    "score = {\n",
    "    '하준' : 90,\n",
    "    '서윤' : 86,\n",
    "    '지아' : 80\n",
    "}"
   ]
  },
  {
   "cell_type": "code",
   "execution_count": 70,
   "id": "7234e15f-7aaf-4cbf-946f-f38d54172a5f",
   "metadata": {},
   "outputs": [
    {
     "data": {
      "text/plain": [
       "{'하준': 90, '서윤': 86, '지아': 80}"
      ]
     },
     "execution_count": 70,
     "metadata": {},
     "output_type": "execute_result"
    }
   ],
   "source": [
    "score"
   ]
  },
  {
   "cell_type": "code",
   "execution_count": 71,
   "id": "c878c3cf-d21b-428b-a445-a52057a50f7e",
   "metadata": {},
   "outputs": [
    {
     "data": {
      "text/plain": [
       "{'하준': 90, '서윤': 86, '지아': 80, '수지': 95}"
      ]
     },
     "execution_count": 71,
     "metadata": {},
     "output_type": "execute_result"
    }
   ],
   "source": [
    "score['수지'] = 95\n",
    "score"
   ]
  },
  {
   "cell_type": "code",
   "execution_count": 72,
   "id": "7e281995-8e76-4fd9-b191-036dfccf43b3",
   "metadata": {},
   "outputs": [
    {
     "data": {
      "text/plain": [
       "{'하준': 90, '서윤': 86, '수지': 95}"
      ]
     },
     "execution_count": 72,
     "metadata": {},
     "output_type": "execute_result"
    }
   ],
   "source": [
    "del score['지아']\n",
    "score"
   ]
  },
  {
   "cell_type": "code",
   "execution_count": 73,
   "id": "72dbe9cf-1f1d-4320-aae5-37d50a87b9e8",
   "metadata": {},
   "outputs": [],
   "source": [
    "score.update({\n",
    "    '기창' : 98,\n",
    "    '남철' : 60,\n",
    "    '기성' : 75\n",
    "})"
   ]
  },
  {
   "cell_type": "code",
   "execution_count": 74,
   "id": "4793a8bb-1dcb-4a84-bf47-714ba47217d8",
   "metadata": {},
   "outputs": [
    {
     "data": {
      "text/plain": [
       "{'하준': 90, '서윤': 86, '수지': 95, '기창': 98, '남철': 60, '기성': 75}"
      ]
     },
     "execution_count": 74,
     "metadata": {},
     "output_type": "execute_result"
    }
   ],
   "source": [
    "score"
   ]
  },
  {
   "cell_type": "code",
   "execution_count": 80,
   "id": "bf5117a3-3d26-46c5-8d05-29c35e2a3840",
   "metadata": {},
   "outputs": [
    {
     "name": "stdout",
     "output_type": "stream",
     "text": [
      "a의 값은 1234입니다.\n",
      "a의 값은 1234입니다.\n",
      "a의 값은 1234입니다.\n"
     ]
    }
   ],
   "source": [
    "a = 1234\n",
    "print('a의 값은 %d입니다.'%(a))\n",
    "print('a의 값은 {}입니다.'.format(a))\n",
    "print(f'a의 값은 {a}입니다.')"
   ]
  },
  {
   "cell_type": "code",
   "execution_count": 81,
   "id": "5352f897-9a89-49ee-b0aa-1cf16d36ffe4",
   "metadata": {},
   "outputs": [],
   "source": [
    "registration_number =  '210101-1234567'"
   ]
  },
  {
   "cell_type": "code",
   "execution_count": 82,
   "id": "5f4ad4e4-6823-4e96-b639-828c8e7d49f2",
   "metadata": {},
   "outputs": [
    {
     "data": {
      "text/plain": [
       "'1'"
      ]
     },
     "execution_count": 82,
     "metadata": {},
     "output_type": "execute_result"
    }
   ],
   "source": [
    "registration_number[7]"
   ]
  },
  {
   "cell_type": "code",
   "execution_count": 99,
   "id": "150da9d8-01c7-4cf7-b777-1dd27d5e315e",
   "metadata": {},
   "outputs": [],
   "source": [
    "a = 'Hello, World'\n",
    "b = 'World To World'\n",
    "c = 'world to world'"
   ]
  },
  {
   "cell_type": "code",
   "execution_count": 103,
   "id": "d841daea-cbf5-425d-abfe-7dd4ac39a4e2",
   "metadata": {},
   "outputs": [
    {
     "data": {
      "text/plain": [
       "{' ', 'd', 'l', 'o', 'r'}"
      ]
     },
     "execution_count": 103,
     "metadata": {},
     "output_type": "execute_result"
    }
   ],
   "source": [
    "set(a) & set(b) & set(c)"
   ]
  },
  {
   "cell_type": "code",
   "execution_count": null,
   "id": "b3aa3232-82c9-448a-a097-9bf93b40e038",
   "metadata": {},
   "outputs": [],
   "source": []
  }
 ],
 "metadata": {
  "kernelspec": {
   "display_name": "Python 3 (ipykernel)",
   "language": "python",
   "name": "python3"
  },
  "language_info": {
   "codemirror_mode": {
    "name": "ipython",
    "version": 3
   },
   "file_extension": ".py",
   "mimetype": "text/x-python",
   "name": "python",
   "nbconvert_exporter": "python",
   "pygments_lexer": "ipython3",
   "version": "3.12.7"
  }
 },
 "nbformat": 4,
 "nbformat_minor": 5
}
